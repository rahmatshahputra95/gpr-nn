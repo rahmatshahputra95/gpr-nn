{
 "cells": [
  {
   "cell_type": "code",
   "execution_count": 16,
   "metadata": {},
   "outputs": [],
   "source": [
    "import numpy as np\n",
    "import matplotlib.pyplot as plt\n",
    "import itertools\n",
    "import pymc3 as pm\n",
    "\n",
    "%matplotlib inline"
   ]
  },
  {
   "cell_type": "code",
   "execution_count": null,
   "metadata": {},
   "outputs": [],
   "source": [
    "#Seismic displacement model in one-dimension\n",
    "\n",
    "#First define main parameters for the model\n",
    "rho_0 = 1800 #density of the medium in kg/m^3\n",
    "alpha = 0.31 #Parameter used in Beker's paper to determine primary wave speed pg. 84\n",
    "beta = 0.25 #Parameter used in Beker's paper to determine primary wave speed pg. 84\n",
    "nu = 0.25 #Poisson's ratio used in Beker's paper\n",
    "\n",
    "CP = ((rho0/1000) / alpha)**(1.0 / beta) #Calculating primary wave speed using equation from Beker's paper, pg. 84\n",
    "CS = np.sqrt((1-2*nu)/(2-2*nu)) * CP #Calculating secondary wave speed using equation from Beker's paper, pg. 84\n",
    "Root = np.roots([1, -8, 8 * ((2 - nu)/(1 - nu)), -8 / (1 - nu)]) #Calculating the the ratio of the R wave speed to the p wave speed squared using equation found in Harm's and Beker's paper, pg. 20 in Beker's paper\n",
    "for i in Root:\n",
    "    if 0<i<1:\n",
    "        CR = np.sqrt(CS**2 *i) #calculating R wave speed\n",
    "\n",
    "x_list = np.linspace(0,1000,1000) #wave source located at x=0m, test mass at x=1000m, evaluating seismic displacement every meter\n",
    "t_list = np.linspace(0,4,100) #lengt of time to evaluate the wave's propagation at each point\n",
    "\n",
    "#Calculating seismic displacement using equation from Harm's paper \"Terrestial Gravity Fluctuations\", pg. 31 \n",
    "def xi_horiz(x, z, t, f, phi): #Where x is the position along the horizontal axis, z is the depth of the point in the medium, t is the time, f is the frequency of the wave, and phi is the phase shift\n",
    "    omega = 2*np.pi*f #calculating the angular frequency\n",
    "    ke = omega / CR #Calculating horizontal wave number of the Rayleigh wave\n",
    "    ks = omega / CS #Calculatin the secondary wave number of the Rayleigh wave\n",
    "    kp = omega / CP #Calculating the primary wave number of the Rayleigh wave\n",
    "    q_z_s = np.sqrt(ke**2 - ks**2) #Calculating wave parameter used in Harm's model, pg. 31\n",
    "    q_z_p = np.sqrt(ke**2 - kp**2) #Calculating wave parameter used in Harm's model, pg. 31\n",
    "    zeta = np.sqrt(q_z_p / q_z_s) #Calculating wave parameter used in Harm's model, pg. 32\n",
    "    return (ke * np.exp(q_z_p * z) - zeta * np.exp(q_z_s * z)) * np.sin(ke * x - omega * t + phi)\n",
    "\n",
    "def xi_vert(x, z, t, f, phi):\n",
    "    omega = 2*np.pi*f #calculating the angular frequency\n",
    "    ke = omega / CR #Calculating horizontal wave number of the Rayleigh wave\n",
    "    ks = omega / CS #Calculatin the secondary wave number of the Rayleigh wave\n",
    "    kp = omega / CP #Calculating the primary wave number of the Rayleigh wave\n",
    "    q_z_s = np.sqrt(ke**2 - ks**2) #Calculating wave parameter used in Harm's model, pg. 31\n",
    "    q_z_p = np.sqrt(ke**2 - kp**2) #Calculating wave parameter used in Harm's model, pg. 31\n",
    "    zeta = np.sqrt(q_z_p / q_z_s) #Calculating wave parameter used in Harm's model, pg. 32\n",
    "    return (q_z_p * np.exp(q_z_p * z) - zeta * ke * np.exp(q_z_s * z)) * np.cos(ke * x - omega * t + phi)\n",
    "\n",
    "\n",
    "fig1 = plt.figure(figsize=(10,10))\n",
    "ax1 = fig1.add_subplot(111, xlabel = 'x-position (m)', ylabel = 'Horizontal Displacement (m)', title = 'Horizontal Displacement of Rayleigh Wave')\n",
    "ax1.plot(x_list, xi_horiz(x_list, 0))\n",
    "\n",
    "fig2 = plt.figure(figsize=(10,10))\n",
    "ax2 = fig2.add_subplot(111, xlabel = 'x-position (m)', ylabel = 'Vertical Displacement (m)', title = 'Vertical Displacement of Rayleigh Wave')\n",
    "ax2.plot(x_list, xi_vert(x_list, 0))"
   ]
  },
  {
   "cell_type": "code",
   "execution_count": null,
   "metadata": {},
   "outputs": [],
   "source": [
    "#Model for seismic Newtonian Noise in one-dimension\n",
    "\n",
    "G = 6.67e-11 #Newton's constant of gravity\n",
    "rho_0 = 1800 #density of the medium in kg/m^3\n",
    "V = 100 #volume of each element\n",
    "\n",
    "xi_field = np.zeros((len(x_list),2)) #creating array of seismic displacement at each x-position\n",
    "\n",
    "#Calculating the Seismic Newtonian Noise using equation (4.13) from Beker's thesis paper on pg. 92\n",
    "def Seis_NN(z, t, f, phi, x0): #Where z, t, f, and phi are as defined above and x0 is the position of the test mass\n",
    "    for i, xn in enumerate(x_list):\n",
    "        if xn <= C_R * t: #only points the wave has reached will be displaced\n",
    "            xi_field[i] = G * rho_0 * (1/(x0-xn)**3)*-2*xi_horiz(xn, t)*V, G * rho_0 * (1/(1001-xn)**3)*xi_vert(xn, t)*V \n",
    "        else: #points beyond where the wave has reached will not yet be displaced\n",
    "            xi_field[i]= 0, 0\n",
    "    seis_NN = np.sum(xi_field, axis = 0) #summing the contributions for each point\n",
    "    total_seis_NN = np.linalg.norm(seis_NN) #computing the total noise from vertical and horizontal displacements\n",
    "    return total_seis_NN\n",
    "\n",
    "T = np.zeros(len(t_list)) #creating array to put seismic NN values into, cannot plug array into function to graph\n",
    "for j, tn in enumerate(t_list):\n",
    "    T[j] = Seis_NN(tn)\n",
    "\n",
    "fig = plt.figure(figsize=(10,10))\n",
    "ax1 = fig.add_subplot(111, xlabel='time (sec)', ylabel='Total Siesmic NN', title='Seismic NN due to propagating Rayleigh wave')\n",
    "ax1.plot(t_list, T)\n",
    "\n"
   ]
  },
  {
   "cell_type": "code",
   "execution_count": null,
   "metadata": {},
   "outputs": [],
   "source": []
  }
 ],
 "metadata": {
  "kernelspec": {
   "display_name": "Python (gpr)",
   "language": "python",
   "name": "venv-gpr"
  },
  "language_info": {
   "codemirror_mode": {
    "name": "ipython",
    "version": 3
   },
   "file_extension": ".py",
   "mimetype": "text/x-python",
   "name": "python",
   "nbconvert_exporter": "python",
   "pygments_lexer": "ipython3",
   "version": "3.4.8"
  }
 },
 "nbformat": 4,
 "nbformat_minor": 2
}
